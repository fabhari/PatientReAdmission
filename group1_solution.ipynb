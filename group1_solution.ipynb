{
 "cells": [
  {
   "cell_type": "code",
   "execution_count": 35,
   "id": "103a2b27",
   "metadata": {},
   "outputs": [],
   "source": [
    "import pandas as pd\n",
    "import numpy as np\n",
    "from collections import defaultdict\n",
    "import re\n",
    "from scipy import stats\n",
    "import matplotlib.pyplot as plt\n",
    "import seaborn as sns\n",
    "from sklearn.model_selection import train_test_split\n",
    "from sklearn.linear_model import LogisticRegression\n",
    "from sklearn.metrics import accuracy_score, precision_score, recall_score"
   ]
  },
  {
   "cell_type": "code",
   "execution_count": 36,
   "id": "2d619e9b",
   "metadata": {},
   "outputs": [],
   "source": [
    "df=pd.read_csv(\"diabetic_data.csv\")\n",
    "#df\n",
    "#df.info()"
   ]
  },
  {
   "cell_type": "code",
   "execution_count": 37,
   "id": "0bcbba21",
   "metadata": {},
   "outputs": [],
   "source": [
    "#1. #shape of dataframe and replace all missing values by nan values\n",
    "df.shape\n",
    "df = df.replace('?', np.NaN)"
   ]
  },
  {
   "cell_type": "code",
   "execution_count": 38,
   "id": "65df6cd5",
   "metadata": {},
   "outputs": [],
   "source": [
    "#2. #column having more than 50% os muissing values\n",
    "\n",
    "percent_missing = (df.isnull().sum() * 100) / len(df)\n",
    "for index, value in percent_missing.items():\n",
    "    if value > 50:\n",
    "        df=df.drop(index,axis=1)\n",
    "\n",
    "#2. # If 90% value keeps repeating drop that column alone\n",
    "for Column_Name in df.columns:  \n",
    "    for value in (df[Column_Name].value_counts() * 100 )/float(len(df)):       \n",
    "        if value > 95:             \n",
    "            df=df.drop(Column_Name,axis=1)  "
   ]
  },
  {
   "cell_type": "code",
   "execution_count": 39,
   "id": "3f4081f6",
   "metadata": {
    "scrolled": false
   },
   "outputs": [],
   "source": [
    "#3. Transform the age to be the middle value in each given range\n",
    "agelist=[]\n",
    "for ageCell in df['age']: # this will give us tuple ( Row Number, Value)\n",
    "    Numbers = re.findall('\\d+', ageCell)\n",
    "    agelist.append(((int(Numbers[0]) + int(Numbers[1]))) / 2)\n",
    "df['age'] = agelist"
   ]
  },
  {
   "cell_type": "code",
   "execution_count": 40,
   "id": "f92ef7d1",
   "metadata": {},
   "outputs": [],
   "source": [
    "#4. Replace Missing values denoted by ? to 0 in the below respective column\n",
    "df.replace({'diag_1':{'?':0}},inplace=True)\n",
    "df.replace({'diag_2':{'?':0}},inplace=True)\n",
    "df.replace({'diag_3':{'?':0}},inplace=True)"
   ]
  },
  {
   "cell_type": "code",
   "execution_count": 41,
   "id": "19d4a9d3",
   "metadata": {},
   "outputs": [],
   "source": [
    "#5.  Drop all rows with missing values  Ask anand..there is nothing to remove ..what are the other cases we might \n",
    "#consider a row with missing value in df\n",
    "df.dropna(axis=0, how='any', inplace=True)"
   ]
  },
  {
   "cell_type": "code",
   "execution_count": 42,
   "id": "902cca19",
   "metadata": {},
   "outputs": [],
   "source": [
    "#6. Identify all numerical features and categorial data\n",
    "categoryData = [Data for Data in df.columns if df[Data].dtype=='object']\n",
    "numericalData = [Data for Data in df.columns if (df[Data].dtype=='int64') or (df[Data].dtype=='float64')]"
   ]
  },
  {
   "cell_type": "code",
   "execution_count": 52,
   "id": "9448f9b1",
   "metadata": {},
   "outputs": [
    {
     "data": {
      "text/plain": [
       "(23043, 14)"
      ]
     },
     "execution_count": 52,
     "metadata": {},
     "output_type": "execute_result"
    }
   ],
   "source": [
    "\n",
    "#7. Identify outliers in the numerical columns and remove them.\n",
    "# zscore standard deviated is meant for numerical daata not for categrical data  as we cannot plot a graph with boolean data\n",
    "dfn = df[numericalData].astype(float)\n",
    "z_scores = stats.zscore(dfn)\n",
    "abs_z_scores = np.abs(z_scores)\n",
    "filtered_entries = (abs_z_scores < 3).all(axis=1) #return list of column having less than 3 standard divation\n",
    "dfno = dfn[filtered_entries]\n",
    "dfno.shape"
   ]
  },
  {
   "cell_type": "code",
   "execution_count": 64,
   "id": "1538c77b",
   "metadata": {},
   "outputs": [
    {
     "data": {
      "text/plain": [
       "(17296, 14)"
      ]
     },
     "execution_count": 64,
     "metadata": {},
     "output_type": "execute_result"
    }
   ],
   "source": [
    "#8 Drop duplicates and replace with the latest one \n",
    "dfno = dfno.drop_duplicates(subset=['patient_nbr'],keep='last')\n",
    "dfno.shape"
   ]
  },
  {
   "cell_type": "code",
   "execution_count": 57,
   "id": "ea5caf47",
   "metadata": {
    "scrolled": true
   },
   "outputs": [
    {
     "data": {
      "text/plain": [
       "Text(0.5, 1.0, 'Age Of Patient VS Readmission ')"
      ]
     },
     "execution_count": 57,
     "metadata": {},
     "output_type": "execute_result"
    },
    {
     "data": {
      "image/png": "[encoded data removed]",
      "text/plain": [
       "<Figure size 1080x288 with 1 Axes>"
      ]
     },
     "metadata": {
      "needs_background": "light"
     },
     "output_type": "display_data"
    }
   ],
   "source": [
    "# TASK 2\n",
    "#1. age vs readmission Age has a higher impact on readmission.\n",
    "df['readmitted'] = ['1' if (i=='<30') | (i=='>30') else '0' if i=='NO' else i for i in df['readmitted'].tolist()]\n",
    "fig = plt.figure(figsize=(15,4)) #Plot size\n",
    "sns.countplot(x= df['age'], hue = df['readmitted']).set_title('Age Of Patient VS Readmission ')"
   ]
  },
  {
   "cell_type": "code",
   "execution_count": 58,
   "id": "3c0c1405",
   "metadata": {},
   "outputs": [
    {
     "data": {
      "text/plain": [
       "<AxesSubplot:xlabel='race', ylabel='count'>"
      ]
     },
     "execution_count": 58,
     "metadata": {},
     "output_type": "execute_result"
    },
    {
     "data": {
      "image/png": "[encoded data removed]",
      "text/plain": [
       "<Figure size 720x360 with 1 Axes>"
      ]
     },
     "metadata": {
      "needs_background": "light"
     },
     "output_type": "display_data"
    }
   ],
   "source": [
    "#2. African Americans are more likely to be re-admitted than other ethnic groups\n",
    "\n",
    "fig = plt.figure(figsize=(10,5))\n",
    "sns.countplot(x = df['race'],data= df)"
   ]
  },
  {
   "cell_type": "code",
   "execution_count": 59,
   "id": "217d1adb",
   "metadata": {},
   "outputs": [
    {
     "data": {
      "text/plain": [
       "Text(0.5, 1.0, 'Women Patients vs Men Patients Re-Admitted')"
      ]
     },
     "execution_count": 59,
     "metadata": {},
     "output_type": "execute_result"
    },
    {
     "data": {
      "image/png": "[encoded data removed]",
      "text/plain": [
       "<Figure size 432x288 with 1 Axes>"
      ]
     },
     "metadata": {
      "needs_background": "light"
     },
     "output_type": "display_data"
    }
   ],
   "source": [
    "# Women patients are more likely to be re-admitted than men\n",
    "#Male  1\n",
    "#Female  0\n",
    "#Add legends \n",
    "df['womenreadmitted'] = np.where((df['gender'] == 'Female') & (df['readmitted'] == \"1\"),1,0)\n",
    "df['menreadmitted'] = np.where((df['gender'] == 'Male') & (df['readmitted'] == \"1\"),1,0)\n",
    "    \n",
    "womenReadmitted = df['womenreadmitted'].sum() * 100 / len(df['womenreadmitted'])\n",
    "menReadmitted = df['menreadmitted'].sum() * 100 / len(df['menreadmitted'])\n",
    "\n",
    "kinetic = \"Women Readmitted\", \"Men Readmitted\"\n",
    "values = womenReadmitted , menReadmitted\n",
    "test  = plt.bar(kinetic, values,  width = 0.5)\n",
    " \n",
    "\n",
    "plt.xlabel(\"Gender Percentage of Re-Admitted\")\n",
    "plt.ylabel(\"Re-Admitted\")\n",
    "plt.title(\"Women Patients vs Men Patients Re-Admitted\")\n"
   ]
  },
  {
   "cell_type": "code",
   "execution_count": 122,
   "id": "cac080b8",
   "metadata": {
    "scrolled": false
   },
   "outputs": [
    {
     "data": {
      "text/plain": [
       "Text(0.5, 1.0, 'Age Of Patient VS Readmission ')"
      ]
     },
     "execution_count": 122,
     "metadata": {},
     "output_type": "execute_result"
    },
    {
     "data": {
      "image/png": "[encoded data removed]",
      "text/plain": [
       "<Figure size 1440x360 with 1 Axes>"
      ]
     },
     "metadata": {
      "needs_background": "light"
     },
     "output_type": "display_data"
    }
   ],
   "source": [
    "df_copy = df.copy()\n",
    "\n",
    "\n",
    "diag_cols = 'diag_1'\n",
    "df_copy[diag_cols] = df_copy[diag_cols].str.replace('E','-')\n",
    "df_copy[diag_cols] = df_copy[diag_cols].str.replace('V','-')\n",
    "condition = df_copy[diag_cols].str.contains('250') \n",
    "df_copy.loc[condition,diag_cols] = '250'\n",
    "df_copy['diag_map']=np.nan\n",
    "df_copy[diag_cols] = df_copy[diag_cols].astype(float)\n",
    "\n",
    "def ModifyDiagColum(lowerInd , UpperInd, Type):\n",
    "    condition = (df_copy['diag_1'] >= lowerInd) & (df_copy['diag_1'] <= UpperInd)\n",
    "    df_copy.loc[condition,'diag_map']= Type\n",
    "\n",
    "\n",
    "diagIcdList = [[1,139],[140,239],[240,279],[280,289],[290,319],[320,389],[390,459],[460,519],[520,579]\n",
    "               ,[580,629],[630,679],[680,709],[710,739],[740,759],[760,779],[780,799],[800,999]]\n",
    "diagIcdName = ['Parasitic','Newoplasms','Metabolic', 'Blood' , 'Mental' , 'Nervous', 'Circulatory' ,\n",
    "               'Respiratory' ,'Digestive','Genitourinary','Puerperium','Skin','Muscoloskeletal','Congenital' ,\n",
    "               'Perinatal', 'Ill', 'Injury']\n",
    "\n",
    "for icd, Name in zip(diagIcdList,diagIcdName):\n",
    "    ModifyDiagColum(icd[0], icd[1],Name)\n",
    "\n",
    "fig = plt.figure(figsize=(20,5))\n",
    "sns.countplot(x= df_copy['diag_map'], hue = df_copy['readmitted']).set_title('Age Of Patient VS Readmission ')"
   ]
  },
  {
   "cell_type": "markdown",
   "id": "14a36490",
   "metadata": {},
   "source": [
    "# Part 2 Model Building"
   ]
  },
  {
   "cell_type": "markdown",
   "id": "a399de15",
   "metadata": {},
   "source": [
    "# Declaring target vector and feature vector"
   ]
  },
  {
   "cell_type": "code",
   "execution_count": 71,
   "id": "113e6685",
   "metadata": {},
   "outputs": [],
   "source": [
    "#Model building\n",
    "# Split the\n",
    "#data into a training and test sets; build up the model\n",
    "#target vector - output\n",
    "#feature vector - indipendecnt vectors \n",
    "\n",
    "from sklearn.linear_model import LogisticRegression\n",
    "df = df[['num_medications', 'number_outpatient', 'number_emergency', 'time_in_hospital',\n",
    "'number_inpatient', 'encounter_id', 'age', 'num_lab_procedures', 'number_diagnoses',\n",
    "'num_procedures', 'readmitted']]\n",
    "\n",
    "x = df.drop(['readmitted'] ,axis =1) #indepedent varible\n",
    "y = df['readmitted'] #depedent variable"
   ]
  },
  {
   "cell_type": "markdown",
   "id": "16d8ca40",
   "metadata": {},
   "source": [
    "# Splitt data into seperate training and test set"
   ]
  },
  {
   "cell_type": "code",
   "execution_count": 99,
   "id": "dc92bffe",
   "metadata": {},
   "outputs": [],
   "source": [
    "from sklearn.model_selection import train_test_split\n",
    "x_train , x_test , y_train , y_test = train_test_split(x,y, test_size=0.2 )\n"
   ]
  },
  {
   "cell_type": "code",
   "execution_count": 100,
   "id": "deecb4b7",
   "metadata": {},
   "outputs": [
    {
     "data": {
      "text/html": [
       "<div>\n",
       "<style scoped>\n",
       "    .dataframe tbody tr th:only-of-type {\n",
       "        vertical-align: middle;\n",
       "    }\n",
       "\n",
       "    .dataframe tbody tr th {\n",
       "        vertical-align: top;\n",
       "    }\n",
       "\n",
       "    .dataframe thead tr th {\n",
       "        text-align: left;\n",
       "    }\n",
       "</style>\n",
       "<table border=\"1\" class=\"dataframe\">\n",
       "  <thead>\n",
       "    <tr>\n",
       "      <th></th>\n",
       "      <th>num_medications</th>\n",
       "      <th>number_outpatient</th>\n",
       "      <th>number_emergency</th>\n",
       "      <th>time_in_hospital</th>\n",
       "      <th>number_inpatient</th>\n",
       "      <th>encounter_id</th>\n",
       "      <th>age</th>\n",
       "      <th>num_lab_procedures</th>\n",
       "      <th>number_diagnoses</th>\n",
       "      <th>num_procedures</th>\n",
       "    </tr>\n",
       "  </thead>\n",
       "  <tbody>\n",
       "    <tr>\n",
       "      <th>count</th>\n",
       "      <td>15549.000000</td>\n",
       "      <td>15549.000000</td>\n",
       "      <td>15549.000000</td>\n",
       "      <td>15549.000000</td>\n",
       "      <td>15549.000000</td>\n",
       "      <td>15549.000000</td>\n",
       "      <td>15549.000000</td>\n",
       "      <td>15549.000000</td>\n",
       "      <td>15549.000000</td>\n",
       "      <td>15549.000000</td>\n",
       "    </tr>\n",
       "    <tr>\n",
       "      <th>mean</th>\n",
       "      <td>0.190551</td>\n",
       "      <td>0.013222</td>\n",
       "      <td>0.004718</td>\n",
       "      <td>0.248554</td>\n",
       "      <td>0.030287</td>\n",
       "      <td>0.318977</td>\n",
       "      <td>0.685082</td>\n",
       "      <td>0.335330</td>\n",
       "      <td>0.329173</td>\n",
       "      <td>0.253414</td>\n",
       "    </tr>\n",
       "    <tr>\n",
       "      <th>std</th>\n",
       "      <td>0.110188</td>\n",
       "      <td>0.046202</td>\n",
       "      <td>0.021358</td>\n",
       "      <td>0.227408</td>\n",
       "      <td>0.064501</td>\n",
       "      <td>0.240764</td>\n",
       "      <td>0.170805</td>\n",
       "      <td>0.165713</td>\n",
       "      <td>0.147823</td>\n",
       "      <td>0.296993</td>\n",
       "    </tr>\n",
       "    <tr>\n",
       "      <th>min</th>\n",
       "      <td>0.000000</td>\n",
       "      <td>0.000000</td>\n",
       "      <td>0.000000</td>\n",
       "      <td>0.000000</td>\n",
       "      <td>0.000000</td>\n",
       "      <td>0.000000</td>\n",
       "      <td>0.000000</td>\n",
       "      <td>0.000000</td>\n",
       "      <td>0.000000</td>\n",
       "      <td>0.000000</td>\n",
       "    </tr>\n",
       "    <tr>\n",
       "      <th>25%</th>\n",
       "      <td>0.112500</td>\n",
       "      <td>0.000000</td>\n",
       "      <td>0.000000</td>\n",
       "      <td>0.076923</td>\n",
       "      <td>0.000000</td>\n",
       "      <td>0.128030</td>\n",
       "      <td>0.555556</td>\n",
       "      <td>0.241667</td>\n",
       "      <td>0.153846</td>\n",
       "      <td>0.000000</td>\n",
       "    </tr>\n",
       "    <tr>\n",
       "      <th>50%</th>\n",
       "      <td>0.175000</td>\n",
       "      <td>0.000000</td>\n",
       "      <td>0.000000</td>\n",
       "      <td>0.153846</td>\n",
       "      <td>0.000000</td>\n",
       "      <td>0.249503</td>\n",
       "      <td>0.666667</td>\n",
       "      <td>0.350000</td>\n",
       "      <td>0.384615</td>\n",
       "      <td>0.166667</td>\n",
       "    </tr>\n",
       "    <tr>\n",
       "      <th>75%</th>\n",
       "      <td>0.237500</td>\n",
       "      <td>0.000000</td>\n",
       "      <td>0.000000</td>\n",
       "      <td>0.384615</td>\n",
       "      <td>0.062500</td>\n",
       "      <td>0.454650</td>\n",
       "      <td>0.777778</td>\n",
       "      <td>0.450000</td>\n",
       "      <td>0.461538</td>\n",
       "      <td>0.333333</td>\n",
       "    </tr>\n",
       "    <tr>\n",
       "      <th>max</th>\n",
       "      <td>1.000000</td>\n",
       "      <td>1.000000</td>\n",
       "      <td>1.000000</td>\n",
       "      <td>1.000000</td>\n",
       "      <td>1.000000</td>\n",
       "      <td>1.000000</td>\n",
       "      <td>1.000000</td>\n",
       "      <td>1.000000</td>\n",
       "      <td>1.000000</td>\n",
       "      <td>1.000000</td>\n",
       "    </tr>\n",
       "  </tbody>\n",
       "</table>\n",
       "</div>"
      ],
      "text/plain": [
       "      num_medications number_outpatient number_emergency time_in_hospital  \\\n",
       "count    15549.000000      15549.000000     15549.000000     15549.000000   \n",
       "mean         0.190551          0.013222         0.004718         0.248554   \n",
       "std          0.110188          0.046202         0.021358         0.227408   \n",
       "min          0.000000          0.000000         0.000000         0.000000   \n",
       "25%          0.112500          0.000000         0.000000         0.076923   \n",
       "50%          0.175000          0.000000         0.000000         0.153846   \n",
       "75%          0.237500          0.000000         0.000000         0.384615   \n",
       "max          1.000000          1.000000         1.000000         1.000000   \n",
       "\n",
       "      number_inpatient  encounter_id           age num_lab_procedures  \\\n",
       "count     15549.000000  15549.000000  15549.000000       15549.000000   \n",
       "mean          0.030287      0.318977      0.685082           0.335330   \n",
       "std           0.064501      0.240764      0.170805           0.165713   \n",
       "min           0.000000      0.000000      0.000000           0.000000   \n",
       "25%           0.000000      0.128030      0.555556           0.241667   \n",
       "50%           0.000000      0.249503      0.666667           0.350000   \n",
       "75%           0.062500      0.454650      0.777778           0.450000   \n",
       "max           1.000000      1.000000      1.000000           1.000000   \n",
       "\n",
       "      number_diagnoses num_procedures  \n",
       "count     15549.000000   15549.000000  \n",
       "mean          0.329173       0.253414  \n",
       "std           0.147823       0.296993  \n",
       "min           0.000000       0.000000  \n",
       "25%           0.153846       0.000000  \n",
       "50%           0.384615       0.166667  \n",
       "75%           0.461538       0.333333  \n",
       "max           1.000000       1.000000  "
      ]
     },
     "execution_count": 100,
     "metadata": {},
     "output_type": "execute_result"
    }
   ],
   "source": [
    "\n",
    "cols = x_train.columns\n",
    "from sklearn.preprocessing import MinMaxScaler\n",
    "\n",
    "scaler = MinMaxScaler()\n",
    "\n",
    "x_train = scaler.fit_transform(x_train) #scalling bring the value betwwen 0 -1\n",
    "x_test = scaler.transform(x_test) #\n",
    "\n",
    "x_train = pd.DataFrame(x_train, columns=[cols])\n",
    "x_test = pd.DataFrame(x_test, columns=[cols])\n",
    "x_train.describe()"
   ]
  },
  {
   "cell_type": "markdown",
   "id": "e49a366f",
   "metadata": {},
   "source": [
    "# Model Training"
   ]
  },
  {
   "cell_type": "code",
   "execution_count": 121,
   "id": "42e0e143",
   "metadata": {},
   "outputs": [
    {
     "name": "stdout",
     "output_type": "stream",
     "text": [
      "\n"
     ]
    },
    {
     "data": {
      "text/plain": [
       "LogisticRegression(random_state=0, solver='liblinear')"
      ]
     },
     "execution_count": 121,
     "metadata": {},
     "output_type": "execute_result"
    }
   ],
   "source": [
    "logreg = LogisticRegression(solver='liblinear', random_state=0)\n",
    "logreg.fit(x_train.values, y_train.values)"
   ]
  },
  {
   "cell_type": "code",
   "execution_count": 122,
   "id": "78a89303",
   "metadata": {},
   "outputs": [],
   "source": [
    "y_pred_test = logreg.predict(x_test.values)"
   ]
  },
  {
   "cell_type": "code",
   "execution_count": 123,
   "id": "862a9330",
   "metadata": {},
   "outputs": [
    {
     "data": {
      "text/plain": [
       "array([0.63174008, 0.6553228 , 0.52767264, ..., 0.8813596 , 0.72420619,\n",
       "       0.88132007])"
      ]
     },
     "execution_count": 123,
     "metadata": {},
     "output_type": "execute_result"
    }
   ],
   "source": [
    "logreg.predict_proba(x_test.values)[:,0]"
   ]
  },
  {
   "cell_type": "code",
   "execution_count": 124,
   "id": "2ff42ce7",
   "metadata": {},
   "outputs": [
    {
     "data": {
      "text/plain": [
       "array([0.36825992, 0.3446772 , 0.47232736, ..., 0.1186404 , 0.27579381,\n",
       "       0.11867993])"
      ]
     },
     "execution_count": 124,
     "metadata": {},
     "output_type": "execute_result"
    }
   ],
   "source": [
    "logreg.predict_proba(x_test.values)[:,1]"
   ]
  },
  {
   "cell_type": "code",
   "execution_count": 111,
   "id": "ca7b9d43",
   "metadata": {},
   "outputs": [
    {
     "name": "stdout",
     "output_type": "stream",
     "text": [
      "Model accuracy score: 0.7757\n"
     ]
    }
   ],
   "source": [
    "from sklearn.metrics import accuracy_score\n",
    "print('Model accuracy score: {0:0.4f}'. format(accuracy_score(y_test, y_pred_test)))"
   ]
  },
  {
   "cell_type": "code",
   "execution_count": 118,
   "id": "720994db",
   "metadata": {},
   "outputs": [
    {
     "name": "stdout",
     "output_type": "stream",
     "text": [
      "73347    0\n",
      "78958    0\n",
      "95059    0\n",
      "72380    0\n",
      "36673    1\n",
      "        ..\n",
      "43443    0\n",
      "81721    0\n",
      "35557    0\n",
      "39859    0\n",
      "26082    0\n",
      "Name: readmitted, Length: 3888, dtype: object\n",
      "Confusion matrix\n",
      "\n",
      " [[2977   37]\n",
      " [ 835   39]]\n",
      "\n",
      "True Positives(TP) =  2977\n",
      "\n",
      "True Negatives(TN) =  39\n",
      "\n",
      "False Positives(FP) =  37\n",
      "\n",
      "False Negatives(FN) =  835\n"
     ]
    }
   ],
   "source": [
    "from sklearn.metrics import confusion_matrix\n",
    "cm = confusion_matrix(y_test, y_pred_test)\n",
    "\n",
    "#cv=onfsuin matrix says how may rows satsifies each diff condiotns in the matric formate\n",
    "#confsion matric defines the accuracy of the model in the matric form \n",
    "\n",
    "print('Confusion matrix\\n\\n', cm) \n",
    "\n",
    "print('\\nTrue Positives(TP) = ', cm[0,0])\n",
    "\n",
    "print('\\nTrue Negatives(TN) = ', cm[1,1])\n",
    "\n",
    "print('\\nFalse Positives(FP) = ', cm[0,1])\n",
    "\n",
    "print('\\nFalse Negatives(FN) = ', cm[1,0])"
   ]
  },
  {
   "cell_type": "code",
   "execution_count": 114,
   "id": "985889bc",
   "metadata": {},
   "outputs": [
    {
     "data": {
      "text/plain": [
       "<AxesSubplot:>"
      ]
     },
     "execution_count": 114,
     "metadata": {},
     "output_type": "execute_result"
    },
    {
     "data": {
      "image/png": "[encoded data removed]",
      "text/plain": [
       "<Figure size 432x288 with 2 Axes>"
      ]
     },
     "metadata": {
      "needs_background": "light"
     },
     "output_type": "display_data"
    }
   ],
   "source": [
    "cm_matrix = pd.DataFrame(data=cm, columns=['Actual Positive:1', 'Actual Negative:0'], \n",
    "                                 index=['Predict Positive:1', 'Predict Negative:0'])\n",
    "\n",
    "sns.heatmap(cm_matrix, annot=True, fmt='d', cmap='YlGnBu')"
   ]
  },
  {
   "cell_type": "code",
   "execution_count": 126,
   "id": "49b8fc6e",
   "metadata": {},
   "outputs": [
    {
     "name": "stdout",
     "output_type": "stream",
     "text": [
      "Cross-validation scores:[0.77427653 0.77299035 0.77684887 0.7778135  0.77902863]\n",
      "0.7761915774036378\n"
     ]
    }
   ],
   "source": [
    "#cross-validation procedure.\n",
    "# train segmebnt ed into 5 , antha \n",
    "from sklearn.model_selection import cross_val_score\n",
    "scores = cross_val_score(logreg, x_train.values, y_train.values, cv = 5, scoring='accuracy')\n",
    "print('Cross-validation scores:{}'.format(scores))\n",
    "print(scores.mean())\n"
   ]
  }
 ],
 "metadata": {
  "kernelspec": {
   "display_name": "Python 3 (ipykernel)",
   "language": "python",
   "name": "python3"
  },
  "language_info": {
   "codemirror_mode": {
    "name": "ipython",
    "version": 3
   },
   "file_extension": ".py",
   "mimetype": "text/x-python",
   "name": "python",
   "nbconvert_exporter": "python",
   "pygments_lexer": "ipython3",
   "version": "3.8.4"
  }
 },
 "nbformat": 4,
 "nbformat_minor": 5
}
